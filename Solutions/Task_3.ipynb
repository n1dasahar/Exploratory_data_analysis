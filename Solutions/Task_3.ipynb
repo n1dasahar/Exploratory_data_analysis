{
 "cells": [
  {
   "cell_type": "code",
   "execution_count": 1,
   "metadata": {},
   "outputs": [],
   "source": [
    "import pandas as pd\n",
    "import numpy as np\n",
    "import matplotlib.pyplot as plt\n",
    "import seaborn as sns\n",
    "import re\n",
    "import scipy.stats as stats\n",
    "from scipy.stats import chisquare\n",
    "from scipy.stats import chi2_contingency\n",
    "from numpy import array\n",
    "from sklearn.preprocessing import LabelEncoder\n",
    "lbe=LabelEncoder()"
   ]
  },
  {
   "cell_type": "code",
   "execution_count": 2,
   "metadata": {},
   "outputs": [],
   "source": [
    "cen=pd.read_csv(\"C:/Users/Hassan Ahmed/Desktop/Data Science Cohort-1 FTI/census.csv\")"
   ]
  },
  {
   "cell_type": "code",
   "execution_count": 3,
   "metadata": {},
   "outputs": [
    {
     "data": {
      "text/html": [
       "<div>\n",
       "<style scoped>\n",
       "    .dataframe tbody tr th:only-of-type {\n",
       "        vertical-align: middle;\n",
       "    }\n",
       "\n",
       "    .dataframe tbody tr th {\n",
       "        vertical-align: top;\n",
       "    }\n",
       "\n",
       "    .dataframe thead th {\n",
       "        text-align: right;\n",
       "    }\n",
       "</style>\n",
       "<table border=\"1\" class=\"dataframe\">\n",
       "  <thead>\n",
       "    <tr style=\"text-align: right;\">\n",
       "      <th></th>\n",
       "      <th>age</th>\n",
       "      <th>workclass</th>\n",
       "      <th>fnlwgt</th>\n",
       "      <th>education</th>\n",
       "      <th>education_num</th>\n",
       "      <th>marital_status</th>\n",
       "      <th>occupation</th>\n",
       "      <th>relationship</th>\n",
       "      <th>race</th>\n",
       "      <th>gender</th>\n",
       "      <th>capital_gain</th>\n",
       "      <th>capital_loss</th>\n",
       "      <th>hours_per_week</th>\n",
       "      <th>native_country</th>\n",
       "      <th>income</th>\n",
       "    </tr>\n",
       "  </thead>\n",
       "  <tbody>\n",
       "    <tr>\n",
       "      <th>0</th>\n",
       "      <td>39</td>\n",
       "      <td>State-gov</td>\n",
       "      <td>77516</td>\n",
       "      <td>Bachelors</td>\n",
       "      <td>13</td>\n",
       "      <td>Never-married</td>\n",
       "      <td>Adm-clerical</td>\n",
       "      <td>Not-in-family</td>\n",
       "      <td>White</td>\n",
       "      <td>Male</td>\n",
       "      <td>2174</td>\n",
       "      <td>0</td>\n",
       "      <td>40</td>\n",
       "      <td>United-States</td>\n",
       "      <td>&lt;=50K</td>\n",
       "    </tr>\n",
       "    <tr>\n",
       "      <th>1</th>\n",
       "      <td>50</td>\n",
       "      <td>Self-emp-not-inc</td>\n",
       "      <td>83311</td>\n",
       "      <td>Bachelors</td>\n",
       "      <td>13</td>\n",
       "      <td>Married-civ-spouse</td>\n",
       "      <td>Exec-managerial</td>\n",
       "      <td>Husband</td>\n",
       "      <td>White</td>\n",
       "      <td>Male</td>\n",
       "      <td>0</td>\n",
       "      <td>0</td>\n",
       "      <td>13</td>\n",
       "      <td>United-States</td>\n",
       "      <td>&lt;=50K</td>\n",
       "    </tr>\n",
       "    <tr>\n",
       "      <th>2</th>\n",
       "      <td>38</td>\n",
       "      <td>Private</td>\n",
       "      <td>215646</td>\n",
       "      <td>HS-grad</td>\n",
       "      <td>9</td>\n",
       "      <td>Divorced</td>\n",
       "      <td>Handlers-cleaners</td>\n",
       "      <td>Not-in-family</td>\n",
       "      <td>White</td>\n",
       "      <td>Male</td>\n",
       "      <td>0</td>\n",
       "      <td>0</td>\n",
       "      <td>40</td>\n",
       "      <td>United-States</td>\n",
       "      <td>&lt;=50K</td>\n",
       "    </tr>\n",
       "    <tr>\n",
       "      <th>3</th>\n",
       "      <td>53</td>\n",
       "      <td>Private</td>\n",
       "      <td>234721</td>\n",
       "      <td>11th</td>\n",
       "      <td>7</td>\n",
       "      <td>Married-civ-spouse</td>\n",
       "      <td>Handlers-cleaners</td>\n",
       "      <td>Husband</td>\n",
       "      <td>Black</td>\n",
       "      <td>Male</td>\n",
       "      <td>0</td>\n",
       "      <td>0</td>\n",
       "      <td>40</td>\n",
       "      <td>United-States</td>\n",
       "      <td>&lt;=50K</td>\n",
       "    </tr>\n",
       "    <tr>\n",
       "      <th>4</th>\n",
       "      <td>28</td>\n",
       "      <td>Private</td>\n",
       "      <td>338409</td>\n",
       "      <td>Bachelors</td>\n",
       "      <td>13</td>\n",
       "      <td>Married-civ-spouse</td>\n",
       "      <td>Prof-specialty</td>\n",
       "      <td>Wife</td>\n",
       "      <td>Black</td>\n",
       "      <td>Female</td>\n",
       "      <td>0</td>\n",
       "      <td>0</td>\n",
       "      <td>40</td>\n",
       "      <td>Cuba</td>\n",
       "      <td>&lt;=50K</td>\n",
       "    </tr>\n",
       "  </tbody>\n",
       "</table>\n",
       "</div>"
      ],
      "text/plain": [
       "   age          workclass  fnlwgt   education  education_num  \\\n",
       "0   39          State-gov   77516   Bachelors             13   \n",
       "1   50   Self-emp-not-inc   83311   Bachelors             13   \n",
       "2   38            Private  215646     HS-grad              9   \n",
       "3   53            Private  234721        11th              7   \n",
       "4   28            Private  338409   Bachelors             13   \n",
       "\n",
       "        marital_status          occupation    relationship    race   gender  \\\n",
       "0        Never-married        Adm-clerical   Not-in-family   White     Male   \n",
       "1   Married-civ-spouse     Exec-managerial         Husband   White     Male   \n",
       "2             Divorced   Handlers-cleaners   Not-in-family   White     Male   \n",
       "3   Married-civ-spouse   Handlers-cleaners         Husband   Black     Male   \n",
       "4   Married-civ-spouse      Prof-specialty            Wife   Black   Female   \n",
       "\n",
       "   capital_gain  capital_loss  hours_per_week  native_country income   \n",
       "0          2174             0              40   United-States   <=50K  \n",
       "1             0             0              13   United-States   <=50K  \n",
       "2             0             0              40   United-States   <=50K  \n",
       "3             0             0              40   United-States   <=50K  \n",
       "4             0             0              40            Cuba   <=50K  "
      ]
     },
     "execution_count": 3,
     "metadata": {},
     "output_type": "execute_result"
    }
   ],
   "source": [
    "cen.head()"
   ]
  },
  {
   "cell_type": "code",
   "execution_count": 4,
   "metadata": {},
   "outputs": [
    {
     "name": "stdout",
     "output_type": "stream",
     "text": [
      "<class 'pandas.core.frame.DataFrame'>\n",
      "RangeIndex: 32561 entries, 0 to 32560\n",
      "Data columns (total 15 columns):\n",
      "age               32561 non-null int64\n",
      "workclass         32561 non-null object\n",
      "fnlwgt            32561 non-null int64\n",
      "education         32561 non-null object\n",
      "education_num     32561 non-null int64\n",
      "marital_status    32561 non-null object\n",
      "occupation        32561 non-null object\n",
      "relationship      32561 non-null object\n",
      "race              32561 non-null object\n",
      "gender            32561 non-null object\n",
      "capital_gain      32561 non-null int64\n",
      "capital_loss      32561 non-null int64\n",
      "hours_per_week    32561 non-null int64\n",
      "native_country    32561 non-null object\n",
      "income            32561 non-null object\n",
      "dtypes: int64(6), object(9)\n",
      "memory usage: 3.7+ MB\n"
     ]
    }
   ],
   "source": [
    "cen.info()"
   ]
  },
  {
   "cell_type": "code",
   "execution_count": 5,
   "metadata": {},
   "outputs": [
    {
     "data": {
      "text/plain": [
       "age               0\n",
       "workclass         0\n",
       "fnlwgt            0\n",
       "education         0\n",
       "education_num     0\n",
       "marital_status    0\n",
       "occupation        0\n",
       "relationship      0\n",
       "race              0\n",
       "gender            0\n",
       "capital_gain      0\n",
       "capital_loss      0\n",
       "hours_per_week    0\n",
       "native_country    0\n",
       "income            0\n",
       "dtype: int64"
      ]
     },
     "execution_count": 5,
     "metadata": {},
     "output_type": "execute_result"
    }
   ],
   "source": [
    "#Checking for any null values\n",
    "cen.isnull().sum()"
   ]
  },
  {
   "cell_type": "code",
   "execution_count": 6,
   "metadata": {},
   "outputs": [
    {
     "data": {
      "text/plain": [
       "array([17, 18, 19, 20, 21, 22, 23, 24, 25, 26, 27, 28, 29, 30, 31, 32, 33,\n",
       "       34, 35, 36, 37, 38, 39, 40, 41, 42, 43, 44, 45, 46, 47, 48, 49, 50,\n",
       "       51, 52, 53, 54, 55, 56, 57, 58, 59, 60, 61, 62, 63, 64, 65, 66, 67,\n",
       "       68, 69, 70, 71, 72, 73, 74, 75, 76, 77, 78, 79, 80, 81, 82, 83, 84,\n",
       "       85, 86, 87, 88, 90], dtype=int64)"
      ]
     },
     "execution_count": 6,
     "metadata": {},
     "output_type": "execute_result"
    }
   ],
   "source": [
    "#Checking all unique values in sorted order, to check any incorrect value and also the range\n",
    "cen[\"age\"].sort_values().unique()"
   ]
  },
  {
   "cell_type": "code",
   "execution_count": 7,
   "metadata": {},
   "outputs": [
    {
     "data": {
      "text/plain": [
       "Index(['age', 'workclass', 'fnlwgt', 'education', 'education_num',\n",
       "       'marital_status', 'occupation', 'relationship', 'race', 'gender',\n",
       "       'capital_gain', 'capital_loss', 'hours_per_week', 'native_country',\n",
       "       'income '],\n",
       "      dtype='object')"
      ]
     },
     "execution_count": 7,
     "metadata": {},
     "output_type": "execute_result"
    }
   ],
   "source": [
    "cen.columns"
   ]
  },
  {
   "cell_type": "code",
   "execution_count": 8,
   "metadata": {},
   "outputs": [
    {
     "data": {
      "text/plain": [
       "array([' State-gov', ' Self-emp-not-inc', ' Private', ' Federal-gov',\n",
       "       ' Local-gov', ' ?', ' Self-emp-inc', ' Without-pay',\n",
       "       ' Never-worked'], dtype=object)"
      ]
     },
     "execution_count": 8,
     "metadata": {},
     "output_type": "execute_result"
    }
   ],
   "source": [
    "#Checking all unique values, in order to check any incorrect value\n",
    "cen[\"workclass\"].unique()"
   ]
  },
  {
   "cell_type": "code",
   "execution_count": 9,
   "metadata": {},
   "outputs": [],
   "source": [
    "# After analysing we saw that some columns have entries \" ?\" so replacing this as \" Others\" for better understanding\n",
    "cen.replace(\" ?\",\" Others\",inplace=True)"
   ]
  },
  {
   "cell_type": "code",
   "execution_count": 10,
   "metadata": {},
   "outputs": [],
   "source": [
    "cen.rename(columns={\"income \":\"class\"},inplace=True)"
   ]
  },
  {
   "cell_type": "markdown",
   "metadata": {},
   "source": [
    "## Discretization"
   ]
  },
  {
   "cell_type": "code",
   "execution_count": 11,
   "metadata": {},
   "outputs": [],
   "source": [
    "# Discretization of Age Column\n",
    "cen[\"age\"]=np.where((cen[\"age\"]<20),\"Teenagers\",\n",
    "                   np.where((cen[\"age\"]>=20) & (cen[\"age\"]<=30),\"Adults\",\n",
    "                   np.where((cen[\"age\"]>30) & (cen[\"age\"]<=40),\"Middle Aged\",\n",
    "                            \"Old\")))"
   ]
  },
  {
   "cell_type": "code",
   "execution_count": 12,
   "metadata": {},
   "outputs": [],
   "source": [
    "cen[\"age\"]=pd.Categorical(cen.age,['Teenagers','Adults', 'Middle Aged', 'Old'],ordered=True)"
   ]
  },
  {
   "cell_type": "code",
   "execution_count": 13,
   "metadata": {},
   "outputs": [
    {
     "data": {
      "text/plain": [
       "[Teenagers, Adults, Middle Aged, Old]\n",
       "Categories (4, object): [Teenagers < Adults < Middle Aged < Old]"
      ]
     },
     "execution_count": 13,
     "metadata": {},
     "output_type": "execute_result"
    }
   ],
   "source": [
    "cen[\"age\"].sort_values().unique()"
   ]
  },
  {
   "cell_type": "code",
   "execution_count": 14,
   "metadata": {},
   "outputs": [],
   "source": [
    "cen[\"class\"].replace((' <=50K', ' >50K'),(0,1),inplace=True)"
   ]
  },
  {
   "cell_type": "code",
   "execution_count": 15,
   "metadata": {},
   "outputs": [
    {
     "data": {
      "text/plain": [
       "array([' State-gov', ' Self-emp-not-inc', ' Private', ' Federal-gov',\n",
       "       ' Local-gov', ' Others', ' Self-emp-inc', ' Without-pay',\n",
       "       ' Never-worked'], dtype=object)"
      ]
     },
     "execution_count": 15,
     "metadata": {},
     "output_type": "execute_result"
    }
   ],
   "source": [
    "cen[\"workclass\"].unique()"
   ]
  },
  {
   "cell_type": "code",
   "execution_count": 16,
   "metadata": {},
   "outputs": [],
   "source": [
    "cen[\"workclass\"]=pd.Categorical(cen.workclass,[' State-gov', ' Self-emp-not-inc', ' Private', ' Federal-gov',\n",
    "       ' Local-gov', ' Others', ' Self-emp-inc', ' Without-pay',\n",
    "       ' Never-worked'],ordered=False)"
   ]
  },
  {
   "cell_type": "code",
   "execution_count": 17,
   "metadata": {},
   "outputs": [
    {
     "data": {
      "text/plain": [
       "array([' Bachelors', ' HS-grad', ' 11th', ' Masters', ' 9th',\n",
       "       ' Some-college', ' Assoc-acdm', ' Assoc-voc', ' 7th-8th',\n",
       "       ' Doctorate', ' Prof-school', ' 5th-6th', ' 10th', ' 1st-4th',\n",
       "       ' Preschool', ' 12th'], dtype=object)"
      ]
     },
     "execution_count": 17,
     "metadata": {},
     "output_type": "execute_result"
    }
   ],
   "source": [
    "cen[\"education\"].unique()"
   ]
  },
  {
   "cell_type": "code",
   "execution_count": 18,
   "metadata": {},
   "outputs": [],
   "source": [
    "cen[\"education\"]=pd.Categorical(cen.education,[' Preschool',' 1st-4th',' 5th-6th',' 7th-8th',' 9th',' 10th',' 11th',' 12th',' HS-grad',\n",
    "                                               ' Some-college',' Assoc-voc',' Assoc-acdm',' Bachelors',' Masters',\n",
    "                                               ' Prof-school',' Doctorate'],ordered=True)"
   ]
  },
  {
   "cell_type": "code",
   "execution_count": 19,
   "metadata": {},
   "outputs": [],
   "source": [
    "cen[\"marital_status\"]=pd.Categorical(cen.marital_status,[' Never-married', ' Married-civ-spouse', ' Divorced',\n",
    "       ' Married-spouse-absent', ' Separated', ' Married-AF-spouse',\n",
    "       ' Widowed'],ordered=False)"
   ]
  },
  {
   "cell_type": "markdown",
   "metadata": {},
   "source": [
    "# Feature Selection"
   ]
  },
  {
   "cell_type": "markdown",
   "metadata": {},
   "source": [
    "### Creating a list of all those features on which Chi Square will be applied"
   ]
  },
  {
   "cell_type": "code",
   "execution_count": 20,
   "metadata": {},
   "outputs": [],
   "source": [
    "catli=['age', 'workclass','education',\n",
    "       'marital_status', 'occupation', 'relationship', 'race', 'gender','hours_per_week','native_country']\n",
    "# Creating an empty list in which all cross table's dataframes are going to be stores\n",
    "tabli=list(np.zeros(len(catli)))"
   ]
  },
  {
   "cell_type": "code",
   "execution_count": 21,
   "metadata": {},
   "outputs": [],
   "source": [
    "for i in range(len(catli)):\n",
    "    tabli[i]=pd.crosstab(cen[catli[i]],cen[\"class\"])"
   ]
  },
  {
   "cell_type": "code",
   "execution_count": 22,
   "metadata": {},
   "outputs": [
    {
     "name": "stdout",
     "output_type": "stream",
     "text": [
      "class           0     1\n",
      "age                    \n",
      "Teenagers    1655     2\n",
      "Adults       8235   680\n",
      "Middle Aged  6140  2406\n",
      "Old          8690  4753\n",
      "class                  0     1\n",
      "workclass                     \n",
      " State-gov           945   353\n",
      " Self-emp-not-inc   1817   724\n",
      " Private           17733  4963\n",
      " Federal-gov         589   371\n",
      " Local-gov          1476   617\n",
      " Others             1645   191\n",
      " Self-emp-inc        494   622\n",
      " Without-pay          14     0\n",
      " Never-worked          7     0\n",
      "class             0     1\n",
      "education                \n",
      " Preschool       51     0\n",
      " 1st-4th        162     6\n",
      " 5th-6th        317    16\n",
      " 7th-8th        606    40\n",
      " 9th            487    27\n",
      " 10th           871    62\n",
      " 11th          1115    60\n",
      " 12th           400    33\n",
      " HS-grad       8826  1675\n",
      " Some-college  5904  1387\n",
      " Assoc-voc     1021   361\n",
      " Assoc-acdm     802   265\n",
      " Bachelors     3134  2221\n",
      " Masters        764   959\n",
      " Prof-school    153   423\n",
      " Doctorate      107   306\n",
      "class                       0     1\n",
      "marital_status                     \n",
      " Never-married          10192   491\n",
      " Married-civ-spouse      8284  6692\n",
      " Divorced                3980   463\n",
      " Married-spouse-absent    384    34\n",
      " Separated                959    66\n",
      " Married-AF-spouse         13    10\n",
      " Widowed                  908    85\n",
      "class                  0     1\n",
      "occupation                    \n",
      " Adm-clerical       3263   507\n",
      " Armed-Forces          8     1\n",
      " Craft-repair       3170   929\n",
      " Exec-managerial    2098  1968\n",
      " Farming-fishing     879   115\n",
      " Handlers-cleaners  1284    86\n",
      " Machine-op-inspct  1752   250\n",
      " Other-service      3158   137\n",
      " Others             1652   191\n",
      " Priv-house-serv     148     1\n",
      " Prof-specialty     2281  1859\n",
      " Protective-serv     438   211\n",
      " Sales              2667   983\n",
      " Tech-support        645   283\n",
      " Transport-moving   1277   320\n",
      "class               0     1\n",
      "relationship               \n",
      " Husband         7275  5918\n",
      " Not-in-family   7449   856\n",
      " Other-relative   944    37\n",
      " Own-child       5001    67\n",
      " Unmarried       3228   218\n",
      " Wife             823   745\n",
      "class                    0     1\n",
      "race                            \n",
      " Amer-Indian-Eskimo    275    36\n",
      " Asian-Pac-Islander    763   276\n",
      " Black                2737   387\n",
      " Other                 246    25\n",
      " White               20699  7117\n",
      "class        0     1\n",
      "gender              \n",
      " Female   9592  1179\n",
      " Male    15128  6662\n",
      "class              0    1\n",
      "hours_per_week           \n",
      "1                 18    2\n",
      "2                 24    8\n",
      "3                 38    1\n",
      "4                 51    3\n",
      "5                 53    7\n",
      "6                 56    8\n",
      "7                 22    4\n",
      "8                134   11\n",
      "9                 17    1\n",
      "10               258   20\n",
      "11                11    0\n",
      "12               161   12\n",
      "13                21    2\n",
      "14                32    2\n",
      "15               389   15\n",
      "16               192   13\n",
      "17                28    1\n",
      "18                68    7\n",
      "19                14    0\n",
      "20              1146   78\n",
      "21                22    2\n",
      "22                40    4\n",
      "23                21    0\n",
      "24               229   23\n",
      "25               639   35\n",
      "26                26    4\n",
      "27                29    1\n",
      "28                81    5\n",
      "29                 6    1\n",
      "30              1066   83\n",
      "...              ...  ...\n",
      "65               140  104\n",
      "66                15    2\n",
      "67                 1    3\n",
      "68                 7    5\n",
      "70               185  106\n",
      "72                46   25\n",
      "73                 1    1\n",
      "74                 1    0\n",
      "75                46   20\n",
      "76                 1    2\n",
      "77                 6    0\n",
      "78                 6    2\n",
      "80                76   57\n",
      "81                 3    0\n",
      "82                 1    0\n",
      "84                28   17\n",
      "85                 9    4\n",
      "86                 2    0\n",
      "87                 1    0\n",
      "88                 2    0\n",
      "89                 1    1\n",
      "90                19   10\n",
      "91                 3    0\n",
      "92                 1    0\n",
      "94                 1    0\n",
      "95                 1    1\n",
      "96                 4    1\n",
      "97                 1    1\n",
      "98                 8    3\n",
      "99                60   25\n",
      "\n",
      "[94 rows x 2 columns]\n",
      "class                            0     1\n",
      "native_country                          \n",
      " Cambodia                       12     7\n",
      " Canada                         82    39\n",
      " China                          55    20\n",
      " Columbia                       57     2\n",
      " Cuba                           70    25\n",
      " Dominican-Republic             68     2\n",
      " Ecuador                        24     4\n",
      " El-Salvador                    97     9\n",
      " England                        60    30\n",
      " France                         17    12\n",
      " Germany                        93    44\n",
      " Greece                         21     8\n",
      " Guatemala                      61     3\n",
      " Haiti                          40     4\n",
      " Holand-Netherlands              1     0\n",
      " Honduras                       12     1\n",
      " Hong                           14     6\n",
      " Hungary                        10     3\n",
      " India                          60    40\n",
      " Iran                           25    18\n",
      " Ireland                        19     5\n",
      " Italy                          48    25\n",
      " Jamaica                        71    10\n",
      " Japan                          38    24\n",
      " Laos                           16     2\n",
      " Mexico                        610    33\n",
      " Nicaragua                      32     2\n",
      " Others                        437   146\n",
      " Outlying-US(Guam-USVI-etc)     14     0\n",
      " Peru                           29     2\n",
      " Philippines                   137    61\n",
      " Poland                         48    12\n",
      " Portugal                       33     4\n",
      " Puerto-Rico                   102    12\n",
      " Scotland                        9     3\n",
      " South                          64    16\n",
      " Taiwan                         31    20\n",
      " Thailand                       15     3\n",
      " Trinadad&Tobago                17     2\n",
      " United-States               21999  7171\n",
      " Vietnam                        62     5\n",
      " Yugoslavia                     10     6\n"
     ]
    }
   ],
   "source": [
    "for i in range(len(catli)):\n",
    "    tabli[i]=pd.crosstab(cen[catli[i]],cen[\"class\"])\n",
    "    print(tabli[i])"
   ]
  },
  {
   "cell_type": "code",
   "execution_count": 23,
   "metadata": {},
   "outputs": [],
   "source": [
    "# Creating an empty List in which contingency values for all the features will be placed \n",
    "chi2cont=list(np.zeros(len(tabli)))"
   ]
  },
  {
   "cell_type": "code",
   "execution_count": 24,
   "metadata": {},
   "outputs": [],
   "source": [
    "# Placing Contingency Values of all features in pre-defined empty list\n",
    "for i in range(len(tabli)):\n",
    "    chi2cont[i]=chi2_contingency(tabli[i])"
   ]
  },
  {
   "cell_type": "markdown",
   "metadata": {},
   "source": [
    "### Checking of Ho and H1 where Ho is: The two features are independent of each other, H1 is: The two feactures are assciated with each other"
   ]
  },
  {
   "cell_type": "code",
   "execution_count": 25,
   "metadata": {},
   "outputs": [
    {
     "name": "stdout",
     "output_type": "stream",
     "text": [
      "Class is Dependent on age  (Reject H0 and Accept H1)\n",
      "Class is Dependent on workclass  (Reject H0 and Accept H1)\n",
      "Class is Dependent on education  (Reject H0 and Accept H1)\n",
      "Class is Dependent on marital_status  (Reject H0 and Accept H1)\n",
      "Class is Dependent on occupation  (Reject H0 and Accept H1)\n",
      "Class is Dependent on relationship  (Reject H0 and Accept H1)\n",
      "Class is Dependent on race  (Reject H0 and Accept H1)\n",
      "Class is Dependent on gender  (Reject H0 and Accept H1)\n",
      "Class is Dependent on hours_per_week  (Reject H0 and Accept H1)\n",
      "Class is Dependent on native_country  (Reject H0 and Accept H1)\n"
     ]
    }
   ],
   "source": [
    "# Using P-Value for selecting Hypothesis\n",
    "alpha=0.05\n",
    "for i in range(len(chi2cont)):\n",
    "    p=chi2cont[i][1]\n",
    "    if  p <= alpha:\n",
    "        print('Class is Dependent on',catli[i],' (Reject H0 and Accept H1)')\n",
    "    else:\n",
    "        print('Class is Independent of',catli[i],'(Accept H0 and Reject H1)')"
   ]
  },
  {
   "cell_type": "code",
   "execution_count": 26,
   "metadata": {},
   "outputs": [
    {
     "name": "stdout",
     "output_type": "stream",
     "text": [
      "Class is Dependent on age  (Reject H0 and Accept H1)\n",
      "Class is Dependent on workclass  (Reject H0 and Accept H1)\n",
      "Class is Dependent on education  (Reject H0 and Accept H1)\n",
      "Class is Dependent on marital_status  (Reject H0 and Accept H1)\n",
      "Class is Dependent on occupation  (Reject H0 and Accept H1)\n",
      "Class is Dependent on relationship  (Reject H0 and Accept H1)\n",
      "Class is Dependent on race  (Reject H0 and Accept H1)\n",
      "Class is Dependent on gender  (Reject H0 and Accept H1)\n",
      "Class is Dependent on hours_per_week  (Reject H0 and Accept H1)\n",
      "Class is Dependent on native_country  (Reject H0 and Accept H1)\n"
     ]
    }
   ],
   "source": [
    "# Using Critical Value for selecting Hypothesis\n",
    "alpha=0.05\n",
    "for i in range(len(chi2cont)):\n",
    "    critical =stats.chi2.ppf(1-alpha, chi2cont[i][2])\n",
    "    if chi2cont[i][0] >= critical:\n",
    "        print('Class is Dependent on',catli[i],' (Reject H0 and Accept H1)')\n",
    "    else:\n",
    "        print('Class is Independent of',catli[i],'(Accept H0 and Reject H1)')"
   ]
  },
  {
   "cell_type": "code",
   "execution_count": 27,
   "metadata": {},
   "outputs": [],
   "source": [
    "## Creating a Function which gives Feature Selection Hypothesis Result\n",
    "def feature_selection(df,f1,f2,alpha):\n",
    "    tab = pd.crosstab(df[f1],df[f2]) \n",
    "    a=chi2_contingency(tab)\n",
    "    Expected_Values = a[3]\n",
    "    dof=a[2]\n",
    "    chi_square_statistic=a[0]\n",
    "    critical_value=stats.chi2.ppf(1-alpha,dof)\n",
    "    p_value=a[1]\n",
    "    print('Significance level: ',alpha)\n",
    "    print('Degree of Freedom: ',dof)\n",
    "    print('chi-square statistic:',chi_square_statistic)\n",
    "    print('critical_value:',critical_value)\n",
    "    print('p-value:',p_value)\n",
    "    \n",
    "    if chi_square_statistic>=critical_value:\n",
    "        print(f2,'is Dependent on',f1,' (Reject H0 and Accept H1)')\n",
    "    else:\n",
    "        print(f2,'is Independent of',f1,'(Accept H0 and Reject H1)')"
   ]
  },
  {
   "cell_type": "code",
   "execution_count": 28,
   "metadata": {},
   "outputs": [
    {
     "name": "stdout",
     "output_type": "stream",
     "text": [
      "Significance level:  0.05\n",
      "Degree of Freedom:  3\n",
      "chi-square statistic: 2852.8535785298513\n",
      "critical_value: 7.814727903251179\n",
      "p-value: 0.0\n",
      "class is Dependent on age  (Reject H0 and Accept H1)\n",
      "---------------------------------------------------------------------------------------------------\n",
      "Significance level:  0.05\n",
      "Degree of Freedom:  8\n",
      "chi-square statistic: 1045.7085997281695\n",
      "critical_value: 15.50731305586545\n",
      "p-value: 2.0265054311204856e-220\n",
      "class is Dependent on workclass  (Reject H0 and Accept H1)\n",
      "---------------------------------------------------------------------------------------------------\n",
      "Significance level:  0.05\n",
      "Degree of Freedom:  15\n",
      "chi-square statistic: 4429.653302288619\n",
      "critical_value: 24.995790139728616\n",
      "p-value: 0.0\n",
      "class is Dependent on education  (Reject H0 and Accept H1)\n",
      "---------------------------------------------------------------------------------------------------\n",
      "Significance level:  0.05\n",
      "Degree of Freedom:  6\n",
      "chi-square statistic: 6517.741653663022\n",
      "critical_value: 12.591587243743977\n",
      "p-value: 0.0\n",
      "class is Dependent on marital_status  (Reject H0 and Accept H1)\n",
      "---------------------------------------------------------------------------------------------------\n",
      "Significance level:  0.05\n",
      "Degree of Freedom:  14\n",
      "chi-square statistic: 4031.9742802471806\n",
      "critical_value: 23.684791304840576\n",
      "p-value: 0.0\n",
      "class is Dependent on occupation  (Reject H0 and Accept H1)\n",
      "---------------------------------------------------------------------------------------------------\n",
      "Significance level:  0.05\n",
      "Degree of Freedom:  5\n",
      "chi-square statistic: 6699.07689685885\n",
      "critical_value: 11.070497693516351\n",
      "p-value: 0.0\n",
      "class is Dependent on relationship  (Reject H0 and Accept H1)\n",
      "---------------------------------------------------------------------------------------------------\n",
      "Significance level:  0.05\n",
      "Degree of Freedom:  4\n",
      "chi-square statistic: 330.9204310085741\n",
      "critical_value: 9.487729036781154\n",
      "p-value: 2.305960610160958e-70\n",
      "class is Dependent on race  (Reject H0 and Accept H1)\n",
      "---------------------------------------------------------------------------------------------------\n",
      "Significance level:  0.05\n",
      "Degree of Freedom:  1\n",
      "chi-square statistic: 1517.813409134445\n",
      "critical_value: 3.841458820694124\n",
      "p-value: 0.0\n",
      "class is Dependent on gender  (Reject H0 and Accept H1)\n",
      "---------------------------------------------------------------------------------------------------\n",
      "Significance level:  0.05\n",
      "Degree of Freedom:  93\n",
      "chi-square statistic: 2647.7607501671596\n",
      "critical_value: 116.51104728087356\n",
      "p-value: 0.0\n",
      "class is Dependent on hours_per_week  (Reject H0 and Accept H1)\n",
      "---------------------------------------------------------------------------------------------------\n",
      "Significance level:  0.05\n",
      "Degree of Freedom:  41\n",
      "chi-square statistic: 317.2303857833171\n",
      "critical_value: 56.94238714682408\n",
      "p-value: 2.2113858852543023e-44\n",
      "class is Dependent on native_country  (Reject H0 and Accept H1)\n",
      "---------------------------------------------------------------------------------------------------\n"
     ]
    }
   ],
   "source": [
    "# Calling Function on all the Categorical Features\n",
    "for i in range(len(catli)):\n",
    "    feature_selection(cen,catli[i],\"class\",0.05)\n",
    "    print(\"---------------------------------------------------------------------------------------------------\")"
   ]
  },
  {
   "cell_type": "markdown",
   "metadata": {},
   "source": [
    "# Correlation"
   ]
  },
  {
   "cell_type": "code",
   "execution_count": 29,
   "metadata": {},
   "outputs": [],
   "source": [
    "corrmatrix=cen.corr()"
   ]
  },
  {
   "cell_type": "code",
   "execution_count": 30,
   "metadata": {},
   "outputs": [
    {
     "data": {
      "text/html": [
       "<div>\n",
       "<style scoped>\n",
       "    .dataframe tbody tr th:only-of-type {\n",
       "        vertical-align: middle;\n",
       "    }\n",
       "\n",
       "    .dataframe tbody tr th {\n",
       "        vertical-align: top;\n",
       "    }\n",
       "\n",
       "    .dataframe thead th {\n",
       "        text-align: right;\n",
       "    }\n",
       "</style>\n",
       "<table border=\"1\" class=\"dataframe\">\n",
       "  <thead>\n",
       "    <tr style=\"text-align: right;\">\n",
       "      <th></th>\n",
       "      <th>fnlwgt</th>\n",
       "      <th>education_num</th>\n",
       "      <th>capital_gain</th>\n",
       "      <th>capital_loss</th>\n",
       "      <th>hours_per_week</th>\n",
       "      <th>class</th>\n",
       "    </tr>\n",
       "  </thead>\n",
       "  <tbody>\n",
       "    <tr>\n",
       "      <th>fnlwgt</th>\n",
       "      <td>1.000000</td>\n",
       "      <td>-0.043195</td>\n",
       "      <td>0.000432</td>\n",
       "      <td>-0.010252</td>\n",
       "      <td>-0.018768</td>\n",
       "      <td>-0.009463</td>\n",
       "    </tr>\n",
       "    <tr>\n",
       "      <th>education_num</th>\n",
       "      <td>-0.043195</td>\n",
       "      <td>1.000000</td>\n",
       "      <td>0.122630</td>\n",
       "      <td>0.079923</td>\n",
       "      <td>0.148123</td>\n",
       "      <td>0.335154</td>\n",
       "    </tr>\n",
       "    <tr>\n",
       "      <th>capital_gain</th>\n",
       "      <td>0.000432</td>\n",
       "      <td>0.122630</td>\n",
       "      <td>1.000000</td>\n",
       "      <td>-0.031615</td>\n",
       "      <td>0.078409</td>\n",
       "      <td>0.223329</td>\n",
       "    </tr>\n",
       "    <tr>\n",
       "      <th>capital_loss</th>\n",
       "      <td>-0.010252</td>\n",
       "      <td>0.079923</td>\n",
       "      <td>-0.031615</td>\n",
       "      <td>1.000000</td>\n",
       "      <td>0.054256</td>\n",
       "      <td>0.150526</td>\n",
       "    </tr>\n",
       "    <tr>\n",
       "      <th>hours_per_week</th>\n",
       "      <td>-0.018768</td>\n",
       "      <td>0.148123</td>\n",
       "      <td>0.078409</td>\n",
       "      <td>0.054256</td>\n",
       "      <td>1.000000</td>\n",
       "      <td>0.229689</td>\n",
       "    </tr>\n",
       "    <tr>\n",
       "      <th>class</th>\n",
       "      <td>-0.009463</td>\n",
       "      <td>0.335154</td>\n",
       "      <td>0.223329</td>\n",
       "      <td>0.150526</td>\n",
       "      <td>0.229689</td>\n",
       "      <td>1.000000</td>\n",
       "    </tr>\n",
       "  </tbody>\n",
       "</table>\n",
       "</div>"
      ],
      "text/plain": [
       "                  fnlwgt  education_num  capital_gain  capital_loss  \\\n",
       "fnlwgt          1.000000      -0.043195      0.000432     -0.010252   \n",
       "education_num  -0.043195       1.000000      0.122630      0.079923   \n",
       "capital_gain    0.000432       0.122630      1.000000     -0.031615   \n",
       "capital_loss   -0.010252       0.079923     -0.031615      1.000000   \n",
       "hours_per_week -0.018768       0.148123      0.078409      0.054256   \n",
       "class          -0.009463       0.335154      0.223329      0.150526   \n",
       "\n",
       "                hours_per_week     class  \n",
       "fnlwgt               -0.018768 -0.009463  \n",
       "education_num         0.148123  0.335154  \n",
       "capital_gain          0.078409  0.223329  \n",
       "capital_loss          0.054256  0.150526  \n",
       "hours_per_week        1.000000  0.229689  \n",
       "class                 0.229689  1.000000  "
      ]
     },
     "execution_count": 30,
     "metadata": {},
     "output_type": "execute_result"
    }
   ],
   "source": [
    "corrmatrix"
   ]
  },
  {
   "cell_type": "code",
   "execution_count": 31,
   "metadata": {},
   "outputs": [
    {
     "data": {
      "text/plain": [
       "<matplotlib.axes._subplots.AxesSubplot at 0x8810ace5f8>"
      ]
     },
     "execution_count": 31,
     "metadata": {},
     "output_type": "execute_result"
    },
    {
     "data": {
      "image/png": "[encoded data removed]",
      "text/plain": [
       "<Figure size 432x288 with 2 Axes>"
      ]
     },
     "metadata": {
      "needs_background": "light"
     },
     "output_type": "display_data"
    }
   ],
   "source": [
    "sns.heatmap(corrmatrix,)"
   ]
  },
  {
   "cell_type": "code",
   "execution_count": 32,
   "metadata": {},
   "outputs": [
    {
     "data": {
      "text/plain": [
       "<matplotlib.axes._subplots.AxesSubplot at 0x88120a9390>"
      ]
     },
     "execution_count": 32,
     "metadata": {},
     "output_type": "execute_result"
    },
    {
     "data": {
      "image/png": "[encoded data removed]",
      "text/plain": [
       "<Figure size 432x288 with 1 Axes>"
      ]
     },
     "metadata": {
      "needs_background": "light"
     },
     "output_type": "display_data"
    }
   ],
   "source": [
    "li=['fnlwgt','capital_gain','capital_loss','hours_per_week']\n",
    "corrmatrix[\"class\"].plot(kind=\"bar\")"
   ]
  },
  {
   "cell_type": "markdown",
   "metadata": {},
   "source": [
    "# Encoding"
   ]
  },
  {
   "cell_type": "markdown",
   "metadata": {},
   "source": [
    "### Manual Encoding"
   ]
  },
  {
   "cell_type": "code",
   "execution_count": 33,
   "metadata": {},
   "outputs": [],
   "source": [
    "cen[\"education\"]=cen[\"education\"].replace([' Preschool',' 1st-4th',' 5th-6th',' 7th-8th',' 9th',' 10th',' 11th',' 12th',' HS-grad',\n",
    "                                               ' Some-college',' Assoc-voc',' Assoc-acdm',' Bachelors',' Masters',\n",
    "                                               ' Prof-school',' Doctorate'],[ 1,  2,  3,  4,  5,  6,  7,  8,  9, 10, 11, 12, 13, 14, 15, 16])"
   ]
  },
  {
   "cell_type": "code",
   "execution_count": 34,
   "metadata": {},
   "outputs": [
    {
     "data": {
      "text/html": [
       "<div>\n",
       "<style scoped>\n",
       "    .dataframe tbody tr th:only-of-type {\n",
       "        vertical-align: middle;\n",
       "    }\n",
       "\n",
       "    .dataframe tbody tr th {\n",
       "        vertical-align: top;\n",
       "    }\n",
       "\n",
       "    .dataframe thead th {\n",
       "        text-align: right;\n",
       "    }\n",
       "</style>\n",
       "<table border=\"1\" class=\"dataframe\">\n",
       "  <thead>\n",
       "    <tr style=\"text-align: right;\">\n",
       "      <th></th>\n",
       "      <th>age</th>\n",
       "      <th>workclass</th>\n",
       "      <th>fnlwgt</th>\n",
       "      <th>education</th>\n",
       "      <th>education_num</th>\n",
       "      <th>marital_status</th>\n",
       "      <th>occupation</th>\n",
       "      <th>relationship</th>\n",
       "      <th>race</th>\n",
       "      <th>gender</th>\n",
       "      <th>capital_gain</th>\n",
       "      <th>capital_loss</th>\n",
       "      <th>hours_per_week</th>\n",
       "      <th>native_country</th>\n",
       "      <th>class</th>\n",
       "    </tr>\n",
       "  </thead>\n",
       "  <tbody>\n",
       "    <tr>\n",
       "      <th>0</th>\n",
       "      <td>Middle Aged</td>\n",
       "      <td>State-gov</td>\n",
       "      <td>77516</td>\n",
       "      <td>13</td>\n",
       "      <td>13</td>\n",
       "      <td>Never-married</td>\n",
       "      <td>Adm-clerical</td>\n",
       "      <td>Not-in-family</td>\n",
       "      <td>White</td>\n",
       "      <td>Male</td>\n",
       "      <td>2174</td>\n",
       "      <td>0</td>\n",
       "      <td>40</td>\n",
       "      <td>United-States</td>\n",
       "      <td>0</td>\n",
       "    </tr>\n",
       "    <tr>\n",
       "      <th>1</th>\n",
       "      <td>Old</td>\n",
       "      <td>Self-emp-not-inc</td>\n",
       "      <td>83311</td>\n",
       "      <td>13</td>\n",
       "      <td>13</td>\n",
       "      <td>Married-civ-spouse</td>\n",
       "      <td>Exec-managerial</td>\n",
       "      <td>Husband</td>\n",
       "      <td>White</td>\n",
       "      <td>Male</td>\n",
       "      <td>0</td>\n",
       "      <td>0</td>\n",
       "      <td>13</td>\n",
       "      <td>United-States</td>\n",
       "      <td>0</td>\n",
       "    </tr>\n",
       "    <tr>\n",
       "      <th>2</th>\n",
       "      <td>Middle Aged</td>\n",
       "      <td>Private</td>\n",
       "      <td>215646</td>\n",
       "      <td>9</td>\n",
       "      <td>9</td>\n",
       "      <td>Divorced</td>\n",
       "      <td>Handlers-cleaners</td>\n",
       "      <td>Not-in-family</td>\n",
       "      <td>White</td>\n",
       "      <td>Male</td>\n",
       "      <td>0</td>\n",
       "      <td>0</td>\n",
       "      <td>40</td>\n",
       "      <td>United-States</td>\n",
       "      <td>0</td>\n",
       "    </tr>\n",
       "    <tr>\n",
       "      <th>3</th>\n",
       "      <td>Old</td>\n",
       "      <td>Private</td>\n",
       "      <td>234721</td>\n",
       "      <td>7</td>\n",
       "      <td>7</td>\n",
       "      <td>Married-civ-spouse</td>\n",
       "      <td>Handlers-cleaners</td>\n",
       "      <td>Husband</td>\n",
       "      <td>Black</td>\n",
       "      <td>Male</td>\n",
       "      <td>0</td>\n",
       "      <td>0</td>\n",
       "      <td>40</td>\n",
       "      <td>United-States</td>\n",
       "      <td>0</td>\n",
       "    </tr>\n",
       "    <tr>\n",
       "      <th>4</th>\n",
       "      <td>Adults</td>\n",
       "      <td>Private</td>\n",
       "      <td>338409</td>\n",
       "      <td>13</td>\n",
       "      <td>13</td>\n",
       "      <td>Married-civ-spouse</td>\n",
       "      <td>Prof-specialty</td>\n",
       "      <td>Wife</td>\n",
       "      <td>Black</td>\n",
       "      <td>Female</td>\n",
       "      <td>0</td>\n",
       "      <td>0</td>\n",
       "      <td>40</td>\n",
       "      <td>Cuba</td>\n",
       "      <td>0</td>\n",
       "    </tr>\n",
       "  </tbody>\n",
       "</table>\n",
       "</div>"
      ],
      "text/plain": [
       "           age          workclass  fnlwgt  education  education_num  \\\n",
       "0  Middle Aged          State-gov   77516         13             13   \n",
       "1          Old   Self-emp-not-inc   83311         13             13   \n",
       "2  Middle Aged            Private  215646          9              9   \n",
       "3          Old            Private  234721          7              7   \n",
       "4       Adults            Private  338409         13             13   \n",
       "\n",
       "        marital_status          occupation    relationship    race   gender  \\\n",
       "0        Never-married        Adm-clerical   Not-in-family   White     Male   \n",
       "1   Married-civ-spouse     Exec-managerial         Husband   White     Male   \n",
       "2             Divorced   Handlers-cleaners   Not-in-family   White     Male   \n",
       "3   Married-civ-spouse   Handlers-cleaners         Husband   Black     Male   \n",
       "4   Married-civ-spouse      Prof-specialty            Wife   Black   Female   \n",
       "\n",
       "   capital_gain  capital_loss  hours_per_week  native_country  class  \n",
       "0          2174             0              40   United-States      0  \n",
       "1             0             0              13   United-States      0  \n",
       "2             0             0              40   United-States      0  \n",
       "3             0             0              40   United-States      0  \n",
       "4             0             0              40            Cuba      0  "
      ]
     },
     "execution_count": 34,
     "metadata": {},
     "output_type": "execute_result"
    }
   ],
   "source": [
    "cen.head()"
   ]
  },
  {
   "cell_type": "markdown",
   "metadata": {},
   "source": [
    "### One Hot Encoding"
   ]
  },
  {
   "cell_type": "code",
   "execution_count": 35,
   "metadata": {},
   "outputs": [
    {
     "data": {
      "text/plain": [
       "age               category\n",
       "workclass         category\n",
       "fnlwgt               int64\n",
       "education            int64\n",
       "education_num        int64\n",
       "marital_status    category\n",
       "occupation          object\n",
       "relationship        object\n",
       "race                object\n",
       "gender              object\n",
       "capital_gain         int64\n",
       "capital_loss         int64\n",
       "hours_per_week       int64\n",
       "native_country      object\n",
       "class                int64\n",
       "dtype: object"
      ]
     },
     "execution_count": 35,
     "metadata": {},
     "output_type": "execute_result"
    }
   ],
   "source": [
    "cen.dtypes"
   ]
  },
  {
   "cell_type": "code",
   "execution_count": 36,
   "metadata": {},
   "outputs": [],
   "source": [
    "cen[\"race\"]=pd.Categorical(cen.race,[' White', ' Black', ' Asian-Pac-Islander', ' Amer-Indian-Eskimo',\n",
    "       ' Other'],ordered=False)"
   ]
  },
  {
   "cell_type": "code",
   "execution_count": 37,
   "metadata": {},
   "outputs": [],
   "source": [
    "cen['gender']=pd.Categorical(cen.gender,[' Male', ' Female'],ordered=False)"
   ]
  },
  {
   "cell_type": "code",
   "execution_count": 38,
   "metadata": {},
   "outputs": [],
   "source": [
    "dfrace=pd.get_dummies(cen[\"race\"],prefix=\"Race\")"
   ]
  },
  {
   "cell_type": "code",
   "execution_count": 39,
   "metadata": {},
   "outputs": [],
   "source": [
    "dfgender=pd.get_dummies(cen[\"gender\"],prefix=\"Gender\")"
   ]
  },
  {
   "cell_type": "code",
   "execution_count": 40,
   "metadata": {},
   "outputs": [],
   "source": [
    "cen=pd.concat([cen,dfrace],axis=1)\n",
    "del cen[\"race\"]"
   ]
  },
  {
   "cell_type": "code",
   "execution_count": 41,
   "metadata": {},
   "outputs": [],
   "source": [
    "cen=pd.concat([cen,dfgender],axis=1)\n",
    "del cen[\"gender\"]"
   ]
  },
  {
   "cell_type": "code",
   "execution_count": 42,
   "metadata": {},
   "outputs": [
    {
     "data": {
      "text/html": [
       "<div>\n",
       "<style scoped>\n",
       "    .dataframe tbody tr th:only-of-type {\n",
       "        vertical-align: middle;\n",
       "    }\n",
       "\n",
       "    .dataframe tbody tr th {\n",
       "        vertical-align: top;\n",
       "    }\n",
       "\n",
       "    .dataframe thead th {\n",
       "        text-align: right;\n",
       "    }\n",
       "</style>\n",
       "<table border=\"1\" class=\"dataframe\">\n",
       "  <thead>\n",
       "    <tr style=\"text-align: right;\">\n",
       "      <th></th>\n",
       "      <th>age</th>\n",
       "      <th>workclass</th>\n",
       "      <th>fnlwgt</th>\n",
       "      <th>education</th>\n",
       "      <th>education_num</th>\n",
       "      <th>marital_status</th>\n",
       "      <th>occupation</th>\n",
       "      <th>relationship</th>\n",
       "      <th>capital_gain</th>\n",
       "      <th>capital_loss</th>\n",
       "      <th>hours_per_week</th>\n",
       "      <th>native_country</th>\n",
       "      <th>class</th>\n",
       "      <th>Race_ White</th>\n",
       "      <th>Race_ Black</th>\n",
       "      <th>Race_ Asian-Pac-Islander</th>\n",
       "      <th>Race_ Amer-Indian-Eskimo</th>\n",
       "      <th>Race_ Other</th>\n",
       "      <th>Gender_ Male</th>\n",
       "      <th>Gender_ Female</th>\n",
       "    </tr>\n",
       "  </thead>\n",
       "  <tbody>\n",
       "    <tr>\n",
       "      <th>0</th>\n",
       "      <td>Middle Aged</td>\n",
       "      <td>State-gov</td>\n",
       "      <td>77516</td>\n",
       "      <td>13</td>\n",
       "      <td>13</td>\n",
       "      <td>Never-married</td>\n",
       "      <td>Adm-clerical</td>\n",
       "      <td>Not-in-family</td>\n",
       "      <td>2174</td>\n",
       "      <td>0</td>\n",
       "      <td>40</td>\n",
       "      <td>United-States</td>\n",
       "      <td>0</td>\n",
       "      <td>1</td>\n",
       "      <td>0</td>\n",
       "      <td>0</td>\n",
       "      <td>0</td>\n",
       "      <td>0</td>\n",
       "      <td>1</td>\n",
       "      <td>0</td>\n",
       "    </tr>\n",
       "    <tr>\n",
       "      <th>1</th>\n",
       "      <td>Old</td>\n",
       "      <td>Self-emp-not-inc</td>\n",
       "      <td>83311</td>\n",
       "      <td>13</td>\n",
       "      <td>13</td>\n",
       "      <td>Married-civ-spouse</td>\n",
       "      <td>Exec-managerial</td>\n",
       "      <td>Husband</td>\n",
       "      <td>0</td>\n",
       "      <td>0</td>\n",
       "      <td>13</td>\n",
       "      <td>United-States</td>\n",
       "      <td>0</td>\n",
       "      <td>1</td>\n",
       "      <td>0</td>\n",
       "      <td>0</td>\n",
       "      <td>0</td>\n",
       "      <td>0</td>\n",
       "      <td>1</td>\n",
       "      <td>0</td>\n",
       "    </tr>\n",
       "    <tr>\n",
       "      <th>2</th>\n",
       "      <td>Middle Aged</td>\n",
       "      <td>Private</td>\n",
       "      <td>215646</td>\n",
       "      <td>9</td>\n",
       "      <td>9</td>\n",
       "      <td>Divorced</td>\n",
       "      <td>Handlers-cleaners</td>\n",
       "      <td>Not-in-family</td>\n",
       "      <td>0</td>\n",
       "      <td>0</td>\n",
       "      <td>40</td>\n",
       "      <td>United-States</td>\n",
       "      <td>0</td>\n",
       "      <td>1</td>\n",
       "      <td>0</td>\n",
       "      <td>0</td>\n",
       "      <td>0</td>\n",
       "      <td>0</td>\n",
       "      <td>1</td>\n",
       "      <td>0</td>\n",
       "    </tr>\n",
       "    <tr>\n",
       "      <th>3</th>\n",
       "      <td>Old</td>\n",
       "      <td>Private</td>\n",
       "      <td>234721</td>\n",
       "      <td>7</td>\n",
       "      <td>7</td>\n",
       "      <td>Married-civ-spouse</td>\n",
       "      <td>Handlers-cleaners</td>\n",
       "      <td>Husband</td>\n",
       "      <td>0</td>\n",
       "      <td>0</td>\n",
       "      <td>40</td>\n",
       "      <td>United-States</td>\n",
       "      <td>0</td>\n",
       "      <td>0</td>\n",
       "      <td>1</td>\n",
       "      <td>0</td>\n",
       "      <td>0</td>\n",
       "      <td>0</td>\n",
       "      <td>1</td>\n",
       "      <td>0</td>\n",
       "    </tr>\n",
       "    <tr>\n",
       "      <th>4</th>\n",
       "      <td>Adults</td>\n",
       "      <td>Private</td>\n",
       "      <td>338409</td>\n",
       "      <td>13</td>\n",
       "      <td>13</td>\n",
       "      <td>Married-civ-spouse</td>\n",
       "      <td>Prof-specialty</td>\n",
       "      <td>Wife</td>\n",
       "      <td>0</td>\n",
       "      <td>0</td>\n",
       "      <td>40</td>\n",
       "      <td>Cuba</td>\n",
       "      <td>0</td>\n",
       "      <td>0</td>\n",
       "      <td>1</td>\n",
       "      <td>0</td>\n",
       "      <td>0</td>\n",
       "      <td>0</td>\n",
       "      <td>0</td>\n",
       "      <td>1</td>\n",
       "    </tr>\n",
       "  </tbody>\n",
       "</table>\n",
       "</div>"
      ],
      "text/plain": [
       "           age          workclass  fnlwgt  education  education_num  \\\n",
       "0  Middle Aged          State-gov   77516         13             13   \n",
       "1          Old   Self-emp-not-inc   83311         13             13   \n",
       "2  Middle Aged            Private  215646          9              9   \n",
       "3          Old            Private  234721          7              7   \n",
       "4       Adults            Private  338409         13             13   \n",
       "\n",
       "        marital_status          occupation    relationship  capital_gain  \\\n",
       "0        Never-married        Adm-clerical   Not-in-family          2174   \n",
       "1   Married-civ-spouse     Exec-managerial         Husband             0   \n",
       "2             Divorced   Handlers-cleaners   Not-in-family             0   \n",
       "3   Married-civ-spouse   Handlers-cleaners         Husband             0   \n",
       "4   Married-civ-spouse      Prof-specialty            Wife             0   \n",
       "\n",
       "   capital_loss  hours_per_week  native_country  class  Race_ White  \\\n",
       "0             0              40   United-States      0            1   \n",
       "1             0              13   United-States      0            1   \n",
       "2             0              40   United-States      0            1   \n",
       "3             0              40   United-States      0            0   \n",
       "4             0              40            Cuba      0            0   \n",
       "\n",
       "   Race_ Black  Race_ Asian-Pac-Islander  Race_ Amer-Indian-Eskimo  \\\n",
       "0            0                         0                         0   \n",
       "1            0                         0                         0   \n",
       "2            0                         0                         0   \n",
       "3            1                         0                         0   \n",
       "4            1                         0                         0   \n",
       "\n",
       "   Race_ Other  Gender_ Male  Gender_ Female  \n",
       "0            0             1               0  \n",
       "1            0             1               0  \n",
       "2            0             1               0  \n",
       "3            0             1               0  \n",
       "4            0             0               1  "
      ]
     },
     "execution_count": 42,
     "metadata": {},
     "output_type": "execute_result"
    }
   ],
   "source": [
    "cen.head()"
   ]
  },
  {
   "cell_type": "markdown",
   "metadata": {},
   "source": [
    "### Label Encoding"
   ]
  },
  {
   "cell_type": "code",
   "execution_count": 43,
   "metadata": {},
   "outputs": [],
   "source": [
    "cen[\"occupation\"]=pd.Categorical(cen.occupation)\n",
    "cen[\"relationship\"]=pd.Categorical(cen.relationship)\n",
    "cen[\"native_country\"]=pd.Categorical(cen.native_country)"
   ]
  },
  {
   "cell_type": "code",
   "execution_count": 44,
   "metadata": {},
   "outputs": [],
   "source": [
    "cen.age=lbe.fit_transform(cen.age)\n",
    "cen.workclass=lbe.fit_transform(cen.workclass)\n",
    "cen.marital_status=lbe.fit_transform(cen.marital_status)\n",
    "cen.occupation=lbe.fit_transform(cen.occupation)\n",
    "cen.relationship=lbe.fit_transform(cen.relationship)\n",
    "cen.native_country=lbe.fit_transform(cen.native_country)"
   ]
  },
  {
   "cell_type": "code",
   "execution_count": 45,
   "metadata": {},
   "outputs": [
    {
     "data": {
      "text/html": [
       "<div>\n",
       "<style scoped>\n",
       "    .dataframe tbody tr th:only-of-type {\n",
       "        vertical-align: middle;\n",
       "    }\n",
       "\n",
       "    .dataframe tbody tr th {\n",
       "        vertical-align: top;\n",
       "    }\n",
       "\n",
       "    .dataframe thead th {\n",
       "        text-align: right;\n",
       "    }\n",
       "</style>\n",
       "<table border=\"1\" class=\"dataframe\">\n",
       "  <thead>\n",
       "    <tr style=\"text-align: right;\">\n",
       "      <th></th>\n",
       "      <th>age</th>\n",
       "      <th>workclass</th>\n",
       "      <th>fnlwgt</th>\n",
       "      <th>education</th>\n",
       "      <th>education_num</th>\n",
       "      <th>marital_status</th>\n",
       "      <th>occupation</th>\n",
       "      <th>relationship</th>\n",
       "      <th>capital_gain</th>\n",
       "      <th>capital_loss</th>\n",
       "      <th>hours_per_week</th>\n",
       "      <th>native_country</th>\n",
       "      <th>class</th>\n",
       "      <th>Race_ White</th>\n",
       "      <th>Race_ Black</th>\n",
       "      <th>Race_ Asian-Pac-Islander</th>\n",
       "      <th>Race_ Amer-Indian-Eskimo</th>\n",
       "      <th>Race_ Other</th>\n",
       "      <th>Gender_ Male</th>\n",
       "      <th>Gender_ Female</th>\n",
       "    </tr>\n",
       "  </thead>\n",
       "  <tbody>\n",
       "    <tr>\n",
       "      <th>0</th>\n",
       "      <td>1</td>\n",
       "      <td>7</td>\n",
       "      <td>77516</td>\n",
       "      <td>13</td>\n",
       "      <td>13</td>\n",
       "      <td>4</td>\n",
       "      <td>0</td>\n",
       "      <td>1</td>\n",
       "      <td>2174</td>\n",
       "      <td>0</td>\n",
       "      <td>40</td>\n",
       "      <td>39</td>\n",
       "      <td>0</td>\n",
       "      <td>1</td>\n",
       "      <td>0</td>\n",
       "      <td>0</td>\n",
       "      <td>0</td>\n",
       "      <td>0</td>\n",
       "      <td>1</td>\n",
       "      <td>0</td>\n",
       "    </tr>\n",
       "    <tr>\n",
       "      <th>1</th>\n",
       "      <td>2</td>\n",
       "      <td>6</td>\n",
       "      <td>83311</td>\n",
       "      <td>13</td>\n",
       "      <td>13</td>\n",
       "      <td>2</td>\n",
       "      <td>3</td>\n",
       "      <td>0</td>\n",
       "      <td>0</td>\n",
       "      <td>0</td>\n",
       "      <td>13</td>\n",
       "      <td>39</td>\n",
       "      <td>0</td>\n",
       "      <td>1</td>\n",
       "      <td>0</td>\n",
       "      <td>0</td>\n",
       "      <td>0</td>\n",
       "      <td>0</td>\n",
       "      <td>1</td>\n",
       "      <td>0</td>\n",
       "    </tr>\n",
       "    <tr>\n",
       "      <th>2</th>\n",
       "      <td>1</td>\n",
       "      <td>4</td>\n",
       "      <td>215646</td>\n",
       "      <td>9</td>\n",
       "      <td>9</td>\n",
       "      <td>0</td>\n",
       "      <td>5</td>\n",
       "      <td>1</td>\n",
       "      <td>0</td>\n",
       "      <td>0</td>\n",
       "      <td>40</td>\n",
       "      <td>39</td>\n",
       "      <td>0</td>\n",
       "      <td>1</td>\n",
       "      <td>0</td>\n",
       "      <td>0</td>\n",
       "      <td>0</td>\n",
       "      <td>0</td>\n",
       "      <td>1</td>\n",
       "      <td>0</td>\n",
       "    </tr>\n",
       "    <tr>\n",
       "      <th>3</th>\n",
       "      <td>2</td>\n",
       "      <td>4</td>\n",
       "      <td>234721</td>\n",
       "      <td>7</td>\n",
       "      <td>7</td>\n",
       "      <td>2</td>\n",
       "      <td>5</td>\n",
       "      <td>0</td>\n",
       "      <td>0</td>\n",
       "      <td>0</td>\n",
       "      <td>40</td>\n",
       "      <td>39</td>\n",
       "      <td>0</td>\n",
       "      <td>0</td>\n",
       "      <td>1</td>\n",
       "      <td>0</td>\n",
       "      <td>0</td>\n",
       "      <td>0</td>\n",
       "      <td>1</td>\n",
       "      <td>0</td>\n",
       "    </tr>\n",
       "    <tr>\n",
       "      <th>4</th>\n",
       "      <td>0</td>\n",
       "      <td>4</td>\n",
       "      <td>338409</td>\n",
       "      <td>13</td>\n",
       "      <td>13</td>\n",
       "      <td>2</td>\n",
       "      <td>10</td>\n",
       "      <td>5</td>\n",
       "      <td>0</td>\n",
       "      <td>0</td>\n",
       "      <td>40</td>\n",
       "      <td>4</td>\n",
       "      <td>0</td>\n",
       "      <td>0</td>\n",
       "      <td>1</td>\n",
       "      <td>0</td>\n",
       "      <td>0</td>\n",
       "      <td>0</td>\n",
       "      <td>0</td>\n",
       "      <td>1</td>\n",
       "    </tr>\n",
       "  </tbody>\n",
       "</table>\n",
       "</div>"
      ],
      "text/plain": [
       "   age  workclass  fnlwgt  education  education_num  marital_status  \\\n",
       "0    1          7   77516         13             13               4   \n",
       "1    2          6   83311         13             13               2   \n",
       "2    1          4  215646          9              9               0   \n",
       "3    2          4  234721          7              7               2   \n",
       "4    0          4  338409         13             13               2   \n",
       "\n",
       "   occupation  relationship  capital_gain  capital_loss  hours_per_week  \\\n",
       "0           0             1          2174             0              40   \n",
       "1           3             0             0             0              13   \n",
       "2           5             1             0             0              40   \n",
       "3           5             0             0             0              40   \n",
       "4          10             5             0             0              40   \n",
       "\n",
       "   native_country  class  Race_ White  Race_ Black  Race_ Asian-Pac-Islander  \\\n",
       "0              39      0            1            0                         0   \n",
       "1              39      0            1            0                         0   \n",
       "2              39      0            1            0                         0   \n",
       "3              39      0            0            1                         0   \n",
       "4               4      0            0            1                         0   \n",
       "\n",
       "   Race_ Amer-Indian-Eskimo  Race_ Other  Gender_ Male  Gender_ Female  \n",
       "0                         0            0             1               0  \n",
       "1                         0            0             1               0  \n",
       "2                         0            0             1               0  \n",
       "3                         0            0             1               0  \n",
       "4                         0            0             0               1  "
      ]
     },
     "execution_count": 45,
     "metadata": {},
     "output_type": "execute_result"
    }
   ],
   "source": [
    "cen.head()"
   ]
  },
  {
   "cell_type": "markdown",
   "metadata": {},
   "source": [
    "# Normalization"
   ]
  },
  {
   "cell_type": "markdown",
   "metadata": {},
   "source": [
    "### Min Max Normalization"
   ]
  },
  {
   "cell_type": "code",
   "execution_count": 46,
   "metadata": {},
   "outputs": [],
   "source": [
    "cen[\"fnlwgt\"]=(cen[\"fnlwgt\"]-cen[\"fnlwgt\"].min())/(cen[\"fnlwgt\"].max()-cen[\"fnlwgt\"].min())"
   ]
  },
  {
   "cell_type": "code",
   "execution_count": 47,
   "metadata": {},
   "outputs": [
    {
     "data": {
      "text/html": [
       "<div>\n",
       "<style scoped>\n",
       "    .dataframe tbody tr th:only-of-type {\n",
       "        vertical-align: middle;\n",
       "    }\n",
       "\n",
       "    .dataframe tbody tr th {\n",
       "        vertical-align: top;\n",
       "    }\n",
       "\n",
       "    .dataframe thead th {\n",
       "        text-align: right;\n",
       "    }\n",
       "</style>\n",
       "<table border=\"1\" class=\"dataframe\">\n",
       "  <thead>\n",
       "    <tr style=\"text-align: right;\">\n",
       "      <th></th>\n",
       "      <th>age</th>\n",
       "      <th>workclass</th>\n",
       "      <th>fnlwgt</th>\n",
       "      <th>education</th>\n",
       "      <th>education_num</th>\n",
       "      <th>marital_status</th>\n",
       "      <th>occupation</th>\n",
       "      <th>relationship</th>\n",
       "      <th>capital_gain</th>\n",
       "      <th>capital_loss</th>\n",
       "      <th>hours_per_week</th>\n",
       "      <th>native_country</th>\n",
       "      <th>class</th>\n",
       "      <th>Race_ White</th>\n",
       "      <th>Race_ Black</th>\n",
       "      <th>Race_ Asian-Pac-Islander</th>\n",
       "      <th>Race_ Amer-Indian-Eskimo</th>\n",
       "      <th>Race_ Other</th>\n",
       "      <th>Gender_ Male</th>\n",
       "      <th>Gender_ Female</th>\n",
       "    </tr>\n",
       "  </thead>\n",
       "  <tbody>\n",
       "    <tr>\n",
       "      <th>0</th>\n",
       "      <td>1</td>\n",
       "      <td>7</td>\n",
       "      <td>0.044302</td>\n",
       "      <td>13</td>\n",
       "      <td>13</td>\n",
       "      <td>4</td>\n",
       "      <td>0</td>\n",
       "      <td>1</td>\n",
       "      <td>2174</td>\n",
       "      <td>0</td>\n",
       "      <td>40</td>\n",
       "      <td>39</td>\n",
       "      <td>0</td>\n",
       "      <td>1</td>\n",
       "      <td>0</td>\n",
       "      <td>0</td>\n",
       "      <td>0</td>\n",
       "      <td>0</td>\n",
       "      <td>1</td>\n",
       "      <td>0</td>\n",
       "    </tr>\n",
       "    <tr>\n",
       "      <th>1</th>\n",
       "      <td>2</td>\n",
       "      <td>6</td>\n",
       "      <td>0.048238</td>\n",
       "      <td>13</td>\n",
       "      <td>13</td>\n",
       "      <td>2</td>\n",
       "      <td>3</td>\n",
       "      <td>0</td>\n",
       "      <td>0</td>\n",
       "      <td>0</td>\n",
       "      <td>13</td>\n",
       "      <td>39</td>\n",
       "      <td>0</td>\n",
       "      <td>1</td>\n",
       "      <td>0</td>\n",
       "      <td>0</td>\n",
       "      <td>0</td>\n",
       "      <td>0</td>\n",
       "      <td>1</td>\n",
       "      <td>0</td>\n",
       "    </tr>\n",
       "    <tr>\n",
       "      <th>2</th>\n",
       "      <td>1</td>\n",
       "      <td>4</td>\n",
       "      <td>0.138113</td>\n",
       "      <td>9</td>\n",
       "      <td>9</td>\n",
       "      <td>0</td>\n",
       "      <td>5</td>\n",
       "      <td>1</td>\n",
       "      <td>0</td>\n",
       "      <td>0</td>\n",
       "      <td>40</td>\n",
       "      <td>39</td>\n",
       "      <td>0</td>\n",
       "      <td>1</td>\n",
       "      <td>0</td>\n",
       "      <td>0</td>\n",
       "      <td>0</td>\n",
       "      <td>0</td>\n",
       "      <td>1</td>\n",
       "      <td>0</td>\n",
       "    </tr>\n",
       "    <tr>\n",
       "      <th>3</th>\n",
       "      <td>2</td>\n",
       "      <td>4</td>\n",
       "      <td>0.151068</td>\n",
       "      <td>7</td>\n",
       "      <td>7</td>\n",
       "      <td>2</td>\n",
       "      <td>5</td>\n",
       "      <td>0</td>\n",
       "      <td>0</td>\n",
       "      <td>0</td>\n",
       "      <td>40</td>\n",
       "      <td>39</td>\n",
       "      <td>0</td>\n",
       "      <td>0</td>\n",
       "      <td>1</td>\n",
       "      <td>0</td>\n",
       "      <td>0</td>\n",
       "      <td>0</td>\n",
       "      <td>1</td>\n",
       "      <td>0</td>\n",
       "    </tr>\n",
       "    <tr>\n",
       "      <th>4</th>\n",
       "      <td>0</td>\n",
       "      <td>4</td>\n",
       "      <td>0.221488</td>\n",
       "      <td>13</td>\n",
       "      <td>13</td>\n",
       "      <td>2</td>\n",
       "      <td>10</td>\n",
       "      <td>5</td>\n",
       "      <td>0</td>\n",
       "      <td>0</td>\n",
       "      <td>40</td>\n",
       "      <td>4</td>\n",
       "      <td>0</td>\n",
       "      <td>0</td>\n",
       "      <td>1</td>\n",
       "      <td>0</td>\n",
       "      <td>0</td>\n",
       "      <td>0</td>\n",
       "      <td>0</td>\n",
       "      <td>1</td>\n",
       "    </tr>\n",
       "  </tbody>\n",
       "</table>\n",
       "</div>"
      ],
      "text/plain": [
       "   age  workclass    fnlwgt  education  education_num  marital_status  \\\n",
       "0    1          7  0.044302         13             13               4   \n",
       "1    2          6  0.048238         13             13               2   \n",
       "2    1          4  0.138113          9              9               0   \n",
       "3    2          4  0.151068          7              7               2   \n",
       "4    0          4  0.221488         13             13               2   \n",
       "\n",
       "   occupation  relationship  capital_gain  capital_loss  hours_per_week  \\\n",
       "0           0             1          2174             0              40   \n",
       "1           3             0             0             0              13   \n",
       "2           5             1             0             0              40   \n",
       "3           5             0             0             0              40   \n",
       "4          10             5             0             0              40   \n",
       "\n",
       "   native_country  class  Race_ White  Race_ Black  Race_ Asian-Pac-Islander  \\\n",
       "0              39      0            1            0                         0   \n",
       "1              39      0            1            0                         0   \n",
       "2              39      0            1            0                         0   \n",
       "3              39      0            0            1                         0   \n",
       "4               4      0            0            1                         0   \n",
       "\n",
       "   Race_ Amer-Indian-Eskimo  Race_ Other  Gender_ Male  Gender_ Female  \n",
       "0                         0            0             1               0  \n",
       "1                         0            0             1               0  \n",
       "2                         0            0             1               0  \n",
       "3                         0            0             1               0  \n",
       "4                         0            0             0               1  "
      ]
     },
     "execution_count": 47,
     "metadata": {},
     "output_type": "execute_result"
    }
   ],
   "source": [
    "cen.head()"
   ]
  },
  {
   "cell_type": "markdown",
   "metadata": {},
   "source": [
    "### Decimal Scaling Normalization"
   ]
  },
  {
   "cell_type": "code",
   "execution_count": 48,
   "metadata": {},
   "outputs": [],
   "source": [
    "cen[\"education_num\"]=(cen[\"education_num\"])/pow(10,len(str(cen[\"education_num\"].max())))"
   ]
  },
  {
   "cell_type": "code",
   "execution_count": 49,
   "metadata": {},
   "outputs": [
    {
     "data": {
      "text/html": [
       "<div>\n",
       "<style scoped>\n",
       "    .dataframe tbody tr th:only-of-type {\n",
       "        vertical-align: middle;\n",
       "    }\n",
       "\n",
       "    .dataframe tbody tr th {\n",
       "        vertical-align: top;\n",
       "    }\n",
       "\n",
       "    .dataframe thead th {\n",
       "        text-align: right;\n",
       "    }\n",
       "</style>\n",
       "<table border=\"1\" class=\"dataframe\">\n",
       "  <thead>\n",
       "    <tr style=\"text-align: right;\">\n",
       "      <th></th>\n",
       "      <th>age</th>\n",
       "      <th>workclass</th>\n",
       "      <th>fnlwgt</th>\n",
       "      <th>education</th>\n",
       "      <th>education_num</th>\n",
       "      <th>marital_status</th>\n",
       "      <th>occupation</th>\n",
       "      <th>relationship</th>\n",
       "      <th>capital_gain</th>\n",
       "      <th>capital_loss</th>\n",
       "      <th>hours_per_week</th>\n",
       "      <th>native_country</th>\n",
       "      <th>class</th>\n",
       "      <th>Race_ White</th>\n",
       "      <th>Race_ Black</th>\n",
       "      <th>Race_ Asian-Pac-Islander</th>\n",
       "      <th>Race_ Amer-Indian-Eskimo</th>\n",
       "      <th>Race_ Other</th>\n",
       "      <th>Gender_ Male</th>\n",
       "      <th>Gender_ Female</th>\n",
       "    </tr>\n",
       "  </thead>\n",
       "  <tbody>\n",
       "    <tr>\n",
       "      <th>0</th>\n",
       "      <td>1</td>\n",
       "      <td>7</td>\n",
       "      <td>0.044302</td>\n",
       "      <td>13</td>\n",
       "      <td>0.13</td>\n",
       "      <td>4</td>\n",
       "      <td>0</td>\n",
       "      <td>1</td>\n",
       "      <td>2174</td>\n",
       "      <td>0</td>\n",
       "      <td>40</td>\n",
       "      <td>39</td>\n",
       "      <td>0</td>\n",
       "      <td>1</td>\n",
       "      <td>0</td>\n",
       "      <td>0</td>\n",
       "      <td>0</td>\n",
       "      <td>0</td>\n",
       "      <td>1</td>\n",
       "      <td>0</td>\n",
       "    </tr>\n",
       "    <tr>\n",
       "      <th>1</th>\n",
       "      <td>2</td>\n",
       "      <td>6</td>\n",
       "      <td>0.048238</td>\n",
       "      <td>13</td>\n",
       "      <td>0.13</td>\n",
       "      <td>2</td>\n",
       "      <td>3</td>\n",
       "      <td>0</td>\n",
       "      <td>0</td>\n",
       "      <td>0</td>\n",
       "      <td>13</td>\n",
       "      <td>39</td>\n",
       "      <td>0</td>\n",
       "      <td>1</td>\n",
       "      <td>0</td>\n",
       "      <td>0</td>\n",
       "      <td>0</td>\n",
       "      <td>0</td>\n",
       "      <td>1</td>\n",
       "      <td>0</td>\n",
       "    </tr>\n",
       "    <tr>\n",
       "      <th>2</th>\n",
       "      <td>1</td>\n",
       "      <td>4</td>\n",
       "      <td>0.138113</td>\n",
       "      <td>9</td>\n",
       "      <td>0.09</td>\n",
       "      <td>0</td>\n",
       "      <td>5</td>\n",
       "      <td>1</td>\n",
       "      <td>0</td>\n",
       "      <td>0</td>\n",
       "      <td>40</td>\n",
       "      <td>39</td>\n",
       "      <td>0</td>\n",
       "      <td>1</td>\n",
       "      <td>0</td>\n",
       "      <td>0</td>\n",
       "      <td>0</td>\n",
       "      <td>0</td>\n",
       "      <td>1</td>\n",
       "      <td>0</td>\n",
       "    </tr>\n",
       "    <tr>\n",
       "      <th>3</th>\n",
       "      <td>2</td>\n",
       "      <td>4</td>\n",
       "      <td>0.151068</td>\n",
       "      <td>7</td>\n",
       "      <td>0.07</td>\n",
       "      <td>2</td>\n",
       "      <td>5</td>\n",
       "      <td>0</td>\n",
       "      <td>0</td>\n",
       "      <td>0</td>\n",
       "      <td>40</td>\n",
       "      <td>39</td>\n",
       "      <td>0</td>\n",
       "      <td>0</td>\n",
       "      <td>1</td>\n",
       "      <td>0</td>\n",
       "      <td>0</td>\n",
       "      <td>0</td>\n",
       "      <td>1</td>\n",
       "      <td>0</td>\n",
       "    </tr>\n",
       "    <tr>\n",
       "      <th>4</th>\n",
       "      <td>0</td>\n",
       "      <td>4</td>\n",
       "      <td>0.221488</td>\n",
       "      <td>13</td>\n",
       "      <td>0.13</td>\n",
       "      <td>2</td>\n",
       "      <td>10</td>\n",
       "      <td>5</td>\n",
       "      <td>0</td>\n",
       "      <td>0</td>\n",
       "      <td>40</td>\n",
       "      <td>4</td>\n",
       "      <td>0</td>\n",
       "      <td>0</td>\n",
       "      <td>1</td>\n",
       "      <td>0</td>\n",
       "      <td>0</td>\n",
       "      <td>0</td>\n",
       "      <td>0</td>\n",
       "      <td>1</td>\n",
       "    </tr>\n",
       "  </tbody>\n",
       "</table>\n",
       "</div>"
      ],
      "text/plain": [
       "   age  workclass    fnlwgt  education  education_num  marital_status  \\\n",
       "0    1          7  0.044302         13           0.13               4   \n",
       "1    2          6  0.048238         13           0.13               2   \n",
       "2    1          4  0.138113          9           0.09               0   \n",
       "3    2          4  0.151068          7           0.07               2   \n",
       "4    0          4  0.221488         13           0.13               2   \n",
       "\n",
       "   occupation  relationship  capital_gain  capital_loss  hours_per_week  \\\n",
       "0           0             1          2174             0              40   \n",
       "1           3             0             0             0              13   \n",
       "2           5             1             0             0              40   \n",
       "3           5             0             0             0              40   \n",
       "4          10             5             0             0              40   \n",
       "\n",
       "   native_country  class  Race_ White  Race_ Black  Race_ Asian-Pac-Islander  \\\n",
       "0              39      0            1            0                         0   \n",
       "1              39      0            1            0                         0   \n",
       "2              39      0            1            0                         0   \n",
       "3              39      0            0            1                         0   \n",
       "4               4      0            0            1                         0   \n",
       "\n",
       "   Race_ Amer-Indian-Eskimo  Race_ Other  Gender_ Male  Gender_ Female  \n",
       "0                         0            0             1               0  \n",
       "1                         0            0             1               0  \n",
       "2                         0            0             1               0  \n",
       "3                         0            0             1               0  \n",
       "4                         0            0             0               1  "
      ]
     },
     "execution_count": 49,
     "metadata": {},
     "output_type": "execute_result"
    }
   ],
   "source": [
    "cen.head()"
   ]
  },
  {
   "cell_type": "markdown",
   "metadata": {},
   "source": [
    "### Z Score Normalization"
   ]
  },
  {
   "cell_type": "code",
   "execution_count": 50,
   "metadata": {},
   "outputs": [],
   "source": [
    "cen[\"capital_gain\"]=(cen[\"capital_gain\"]-cen[\"capital_gain\"].mean())/(cen[\"capital_gain\"].std())\n",
    "cen[\"capital_loss\"]=(cen[\"capital_loss\"]-cen[\"capital_loss\"].mean())/(cen[\"capital_loss\"].std())\n",
    "cen[\"hours_per_week\"]=(cen[\"hours_per_week\"]-cen[\"hours_per_week\"].mean())/(cen[\"hours_per_week\"].std())\n"
   ]
  },
  {
   "cell_type": "code",
   "execution_count": 51,
   "metadata": {},
   "outputs": [
    {
     "data": {
      "text/html": [
       "<div>\n",
       "<style scoped>\n",
       "    .dataframe tbody tr th:only-of-type {\n",
       "        vertical-align: middle;\n",
       "    }\n",
       "\n",
       "    .dataframe tbody tr th {\n",
       "        vertical-align: top;\n",
       "    }\n",
       "\n",
       "    .dataframe thead th {\n",
       "        text-align: right;\n",
       "    }\n",
       "</style>\n",
       "<table border=\"1\" class=\"dataframe\">\n",
       "  <thead>\n",
       "    <tr style=\"text-align: right;\">\n",
       "      <th></th>\n",
       "      <th>age</th>\n",
       "      <th>workclass</th>\n",
       "      <th>fnlwgt</th>\n",
       "      <th>education</th>\n",
       "      <th>education_num</th>\n",
       "      <th>marital_status</th>\n",
       "      <th>occupation</th>\n",
       "      <th>relationship</th>\n",
       "      <th>capital_gain</th>\n",
       "      <th>capital_loss</th>\n",
       "      <th>hours_per_week</th>\n",
       "      <th>native_country</th>\n",
       "      <th>class</th>\n",
       "      <th>Race_ White</th>\n",
       "      <th>Race_ Black</th>\n",
       "      <th>Race_ Asian-Pac-Islander</th>\n",
       "      <th>Race_ Amer-Indian-Eskimo</th>\n",
       "      <th>Race_ Other</th>\n",
       "      <th>Gender_ Male</th>\n",
       "      <th>Gender_ Female</th>\n",
       "    </tr>\n",
       "  </thead>\n",
       "  <tbody>\n",
       "    <tr>\n",
       "      <th>0</th>\n",
       "      <td>1</td>\n",
       "      <td>7</td>\n",
       "      <td>0.044302</td>\n",
       "      <td>13</td>\n",
       "      <td>0.13</td>\n",
       "      <td>4</td>\n",
       "      <td>0</td>\n",
       "      <td>1</td>\n",
       "      <td>0.148451</td>\n",
       "      <td>-0.216656</td>\n",
       "      <td>-0.035429</td>\n",
       "      <td>39</td>\n",
       "      <td>0</td>\n",
       "      <td>1</td>\n",
       "      <td>0</td>\n",
       "      <td>0</td>\n",
       "      <td>0</td>\n",
       "      <td>0</td>\n",
       "      <td>1</td>\n",
       "      <td>0</td>\n",
       "    </tr>\n",
       "    <tr>\n",
       "      <th>1</th>\n",
       "      <td>2</td>\n",
       "      <td>6</td>\n",
       "      <td>0.048238</td>\n",
       "      <td>13</td>\n",
       "      <td>0.13</td>\n",
       "      <td>2</td>\n",
       "      <td>3</td>\n",
       "      <td>0</td>\n",
       "      <td>-0.145918</td>\n",
       "      <td>-0.216656</td>\n",
       "      <td>-2.222119</td>\n",
       "      <td>39</td>\n",
       "      <td>0</td>\n",
       "      <td>1</td>\n",
       "      <td>0</td>\n",
       "      <td>0</td>\n",
       "      <td>0</td>\n",
       "      <td>0</td>\n",
       "      <td>1</td>\n",
       "      <td>0</td>\n",
       "    </tr>\n",
       "    <tr>\n",
       "      <th>2</th>\n",
       "      <td>1</td>\n",
       "      <td>4</td>\n",
       "      <td>0.138113</td>\n",
       "      <td>9</td>\n",
       "      <td>0.09</td>\n",
       "      <td>0</td>\n",
       "      <td>5</td>\n",
       "      <td>1</td>\n",
       "      <td>-0.145918</td>\n",
       "      <td>-0.216656</td>\n",
       "      <td>-0.035429</td>\n",
       "      <td>39</td>\n",
       "      <td>0</td>\n",
       "      <td>1</td>\n",
       "      <td>0</td>\n",
       "      <td>0</td>\n",
       "      <td>0</td>\n",
       "      <td>0</td>\n",
       "      <td>1</td>\n",
       "      <td>0</td>\n",
       "    </tr>\n",
       "    <tr>\n",
       "      <th>3</th>\n",
       "      <td>2</td>\n",
       "      <td>4</td>\n",
       "      <td>0.151068</td>\n",
       "      <td>7</td>\n",
       "      <td>0.07</td>\n",
       "      <td>2</td>\n",
       "      <td>5</td>\n",
       "      <td>0</td>\n",
       "      <td>-0.145918</td>\n",
       "      <td>-0.216656</td>\n",
       "      <td>-0.035429</td>\n",
       "      <td>39</td>\n",
       "      <td>0</td>\n",
       "      <td>0</td>\n",
       "      <td>1</td>\n",
       "      <td>0</td>\n",
       "      <td>0</td>\n",
       "      <td>0</td>\n",
       "      <td>1</td>\n",
       "      <td>0</td>\n",
       "    </tr>\n",
       "    <tr>\n",
       "      <th>4</th>\n",
       "      <td>0</td>\n",
       "      <td>4</td>\n",
       "      <td>0.221488</td>\n",
       "      <td>13</td>\n",
       "      <td>0.13</td>\n",
       "      <td>2</td>\n",
       "      <td>10</td>\n",
       "      <td>5</td>\n",
       "      <td>-0.145918</td>\n",
       "      <td>-0.216656</td>\n",
       "      <td>-0.035429</td>\n",
       "      <td>4</td>\n",
       "      <td>0</td>\n",
       "      <td>0</td>\n",
       "      <td>1</td>\n",
       "      <td>0</td>\n",
       "      <td>0</td>\n",
       "      <td>0</td>\n",
       "      <td>0</td>\n",
       "      <td>1</td>\n",
       "    </tr>\n",
       "  </tbody>\n",
       "</table>\n",
       "</div>"
      ],
      "text/plain": [
       "   age  workclass    fnlwgt  education  education_num  marital_status  \\\n",
       "0    1          7  0.044302         13           0.13               4   \n",
       "1    2          6  0.048238         13           0.13               2   \n",
       "2    1          4  0.138113          9           0.09               0   \n",
       "3    2          4  0.151068          7           0.07               2   \n",
       "4    0          4  0.221488         13           0.13               2   \n",
       "\n",
       "   occupation  relationship  capital_gain  capital_loss  hours_per_week  \\\n",
       "0           0             1      0.148451     -0.216656       -0.035429   \n",
       "1           3             0     -0.145918     -0.216656       -2.222119   \n",
       "2           5             1     -0.145918     -0.216656       -0.035429   \n",
       "3           5             0     -0.145918     -0.216656       -0.035429   \n",
       "4          10             5     -0.145918     -0.216656       -0.035429   \n",
       "\n",
       "   native_country  class  Race_ White  Race_ Black  Race_ Asian-Pac-Islander  \\\n",
       "0              39      0            1            0                         0   \n",
       "1              39      0            1            0                         0   \n",
       "2              39      0            1            0                         0   \n",
       "3              39      0            0            1                         0   \n",
       "4               4      0            0            1                         0   \n",
       "\n",
       "   Race_ Amer-Indian-Eskimo  Race_ Other  Gender_ Male  Gender_ Female  \n",
       "0                         0            0             1               0  \n",
       "1                         0            0             1               0  \n",
       "2                         0            0             1               0  \n",
       "3                         0            0             1               0  \n",
       "4                         0            0             0               1  "
      ]
     },
     "execution_count": 51,
     "metadata": {},
     "output_type": "execute_result"
    }
   ],
   "source": [
    "cen.head()"
   ]
  },
  {
   "cell_type": "code",
   "execution_count": 52,
   "metadata": {},
   "outputs": [
    {
     "data": {
      "image/png": "[encoded data removed]",
      "text/plain": [
       "<Figure size 1008x576 with 1 Axes>"
      ]
     },
     "metadata": {
      "needs_background": "light"
     },
     "output_type": "display_data"
    },
    {
     "data": {
      "image/png": "[encoded data removed]",
      "text/plain": [
       "<Figure size 1008x576 with 1 Axes>"
      ]
     },
     "metadata": {
      "needs_background": "light"
     },
     "output_type": "display_data"
    },
    {
     "data": {
      "image/png": "[encoded data removed]",
      "text/plain": [
       "<Figure size 1008x576 with 1 Axes>"
      ]
     },
     "metadata": {
      "needs_background": "light"
     },
     "output_type": "display_data"
    },
    {
     "data": {
      "image/png": "[encoded data removed]",
      "text/plain": [
       "<Figure size 1008x576 with 1 Axes>"
      ]
     },
     "metadata": {
      "needs_background": "light"
     },
     "output_type": "display_data"
    },
    {
     "data": {
      "image/png": "[encoded data removed]",
      "text/plain": [
       "<Figure size 1008x576 with 1 Axes>"
      ]
     },
     "metadata": {
      "needs_background": "light"
     },
     "output_type": "display_data"
    },
    {
     "data": {
      "image/png": "[encoded data removed]",
      "text/plain": [
       "<Figure size 1008x576 with 1 Axes>"
      ]
     },
     "metadata": {
      "needs_background": "light"
     },
     "output_type": "display_data"
    },
    {
     "data": {
      "image/png": "[encoded data removed]",
      "text/plain": [
       "<Figure size 1008x576 with 1 Axes>"
      ]
     },
     "metadata": {
      "needs_background": "light"
     },
     "output_type": "display_data"
    },
    {
     "data": {
      "image/png": "[encoded data removed]",
      "text/plain": [
       "<Figure size 1008x576 with 1 Axes>"
      ]
     },
     "metadata": {
      "needs_background": "light"
     },
     "output_type": "display_data"
    },
    {
     "data": {
      "image/png": "[encoded data removed]",
      "text/plain": [
       "<Figure size 1008x576 with 1 Axes>"
      ]
     },
     "metadata": {
      "needs_background": "light"
     },
     "output_type": "display_data"
    },
    {
     "data": {
      "image/png": "[encoded data removed]",
      "text/plain": [
       "<Figure size 1008x576 with 1 Axes>"
      ]
     },
     "metadata": {
      "needs_background": "light"
     },
     "output_type": "display_data"
    }
   ],
   "source": [
    "for i in range(len(tabli)):\n",
    "    tabli[i].plot(kind=\"barh\",figsize=(14,8),stacked=True)"
   ]
  },
  {
   "cell_type": "code",
   "execution_count": null,
   "metadata": {},
   "outputs": [],
   "source": []
  }
 ],
 "metadata": {
  "kernelspec": {
   "display_name": "Python 3",
   "language": "python",
   "name": "python3"
  },
  "language_info": {
   "codemirror_mode": {
    "name": "ipython",
    "version": 3
   },
   "file_extension": ".py",
   "mimetype": "text/x-python",
   "name": "python",
   "nbconvert_exporter": "python",
   "pygments_lexer": "ipython3",
   "version": "3.7.6"
  }
 },
 "nbformat": 4,
 "nbformat_minor": 2
}
